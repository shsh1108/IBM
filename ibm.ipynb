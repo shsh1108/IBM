{
 "cells": [
  {
   "cell_type": "markdown",
   "id": "a3501c54-f140-4f91-83fe-fb2df91ef2e0",
   "metadata": {},
   "source": [
    "#going forward"
   ]
  },
  {
   "cell_type": "code",
   "execution_count": null,
   "id": "186a0f95-1d25-4bfb-a1b2-1e278a6a0e59",
   "metadata": {},
   "outputs": [],
   "source": []
  },
  {
   "cell_type": "markdown",
   "id": "3da0c8fe-0c07-4e5d-b4da-ba8451e51b02",
   "metadata": {},
   "source": [
    "This notebook demonstrates basic Markdown usage in Jupyter.\r\n"
   ]
  },
  {
   "cell_type": "markdown",
   "id": "92c70f0b-be08-4331-bcbc-f4368e723b57",
   "metadata": {},
   "source": [
    "Below is an ordered list of commonly used data science languages:\r\n"
   ]
  },
  {
   "cell_type": "markdown",
   "id": "41022685-9d0e-44f5-9404-ef4359f19cca",
   "metadata": {},
   "source": [
    "1. Python\r\n",
    "2. R\r\n",
    "3. SQL\r\n",
    "4. Julia\r\n",
    "5. Scala\r\n"
   ]
  },
  {
   "cell_type": "markdown",
   "id": "c49e205e-8b52-429f-ae9a-ad4f34bb89ec",
   "metadata": {},
   "source": [
    "Below is an ordered list of commonly used data science libraries:\n",
    "1. NumPy\n",
    "2. Pandas\n",
    "3. Matplotlib\n",
    "4. Scikit-learn\n",
    "5. TensorFlow\n"
   ]
  },
  {
   "cell_type": "markdown",
   "id": "218f3341-86ef-4bc8-815e-5ba06bae5088",
   "metadata": {},
   "source": [
    "Below is a table of commonly used Data Science tools:\n",
    "\n",
    "| Tool            | Purpose                            |\n",
    "|-----------------|------------------------------------|\n",
    "| Jupyter Notebook | Interactive coding and visualization |\n",
    "| RStudio          | Statistical computing             |\n",
    "| TensorFlow       | Machine learning and deep learning |\n",
    "| Apache Spark     | Big data processing               |\n",
    "| Tableau          | Data visualization                |\n"
   ]
  },
  {
   "cell_type": "markdown",
   "id": "57748a4d-8bbb-402e-809a-317e4ca95e66",
   "metadata": {},
   "source": [
    "Below are some examples of arithmetic expressions commonly used in programming:\n"
   ]
  },
  {
   "cell_type": "code",
   "execution_count": 9,
   "id": "32d2adb3-301d-45e9-ae14-42d81664fa6d",
   "metadata": {},
   "outputs": [
    {
     "name": "stdout",
     "output_type": "stream",
     "text": [
      "Addition result: 15\n",
      "Multiplication result: 50\n"
     ]
    }
   ],
   "source": [
    "# Example of addition and multiplication\n",
    "result_addition = 5 + 10\n",
    "result_multiplication = 5 * 10\n",
    "\n",
    "print(\"Addition result:\", result_addition)\n",
    "print(\"Multiplication result:\", result_multiplication)\n"
   ]
  },
  {
   "cell_type": "code",
   "execution_count": 11,
   "id": "c79223a4-669e-4166-bb98-689ca2680a4a",
   "metadata": {},
   "outputs": [
    {
     "name": "stdout",
     "output_type": "stream",
     "text": [
      "150 minutes is equl to 2.5 hours.\n"
     ]
    }
   ],
   "source": [
    "minutes = 150\n",
    "hours = minutes / 60\n",
    "\n",
    "print(f\"{minutes} minutes is equl to {hours} hours.\")"
   ]
  },
  {
   "cell_type": "markdown",
   "id": "2aeb31e7-c666-445d-b85c-0d984b76f2dd",
   "metadata": {},
   "source": [
    "Below are the main objectives of this notebook:\n"
   ]
  },
  {
   "cell_type": "markdown",
   "id": "39b1f881-34bf-4f8a-a71d-b0ae7d9a1721",
   "metadata": {},
   "source": [
    "Below are the main objectives of this notebook:\n",
    "\n",
    "- Learn basic Markdown syntax\n",
    "- Write and execute Python code\n",
    "- Create tables and lists\n",
    "- Perform arithmetic operations\n"
   ]
  },
  {
   "cell_type": "markdown",
   "id": "617b2bd1-de98-4405-aaef-247bb426491a",
   "metadata": {},
   "source": [
    "**Author:** John Doe  \n",
    "**Date:** December 27, 2024\n"
   ]
  },
  {
   "cell_type": "markdown",
   "id": "d8a39123-0e9c-4b3a-919c-eaf6239853e2",
   "metadata": {},
   "source": [
    "**Author:** Sang Lee  \n",
    "**Date:** December 27, 2024\n"
   ]
  },
  {
   "cell_type": "code",
   "execution_count": null,
   "id": "9e5ab310-da94-47df-90d1-0c578d0039ec",
   "metadata": {},
   "outputs": [],
   "source": []
  }
 ],
 "metadata": {
  "kernelspec": {
   "display_name": "Python 3 (ipykernel)",
   "language": "python",
   "name": "python3"
  },
  "language_info": {
   "codemirror_mode": {
    "name": "ipython",
    "version": 3
   },
   "file_extension": ".py",
   "mimetype": "text/x-python",
   "name": "python",
   "nbconvert_exporter": "python",
   "pygments_lexer": "ipython3",
   "version": "3.11.7"
  }
 },
 "nbformat": 4,
 "nbformat_minor": 5
}
